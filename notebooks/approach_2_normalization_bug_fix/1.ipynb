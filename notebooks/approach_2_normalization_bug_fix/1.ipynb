{
 "cells": [
  {
   "cell_type": "code",
   "execution_count": null,
   "id": "d8c31904-ff3e-4e85-bda7-9d550ef15926",
   "metadata": {},
   "outputs": [],
   "source": [
    "\"\"\"Scatter neutrinos using density matrices.\n",
    "\n",
    "Created 17 October 2023.\n",
    "\"\"\"\n",
    "import numpy as np\n",
    "from numpy import pi, cos, arccos\n",
    "from scipy.linalg import logm\n",
    "\n",
    "\n",
    "def random_scatter(initial_states, n, *args, **kwargs):\n",
    "    \"\"\"Scatter random pairs of particles `n` times and return all the states\n",
    "     along the way.\"\"\"\n",
    "    N = len(initial_states)\n",
    "    particle1, particle2 = pick_random_pairs(N, n)\n",
    "    relative_angles = random_theta(n)\n",
    "    relative_angles = (pi) * np.ones_like(relative_angles)\n",
    "    # particle1 = np.zeros_like(particle1)\n",
    "    # particle2 = (N - 1) + particle1\n",
    "\n",
    "    states = np.array(initial_states)\n",
    "    yield states\n",
    "\n",
    "    for _, (p1, p2, theta) in enumerate(zip(particle1, particle2, relative_angles)):\n",
    "        states = states.copy()\n",
    "        # states[1] = [[1/2, 1/2], [1/2, 1/2]]\n",
    "        states[[p1, p2]] = independent_scatter(*states[[p1, p2]], theta=theta, *args, **kwargs)\n",
    "        yield states\n",
    "\n",
    "\n",
    "def independent_scatter(rho1, rho2, *args, **kwargs):\n",
    "    \"\"\"Scatter two independent neutrinos, then return each of their new\n",
    "    independent density matrices.\"\"\"\n",
    "    rho_full = combine_rho(rho1, rho2)\n",
    "    rho_full = scatter(rho_full, *args, **kwargs)\n",
    "    rho1, rho2 = split_rho(rho_full)\n",
    "    return rho1, rho2\n",
    "\n",
    "\n",
    "def scatter_backgrounds(rho0, rho_background, n, *args, **kwargs):\n",
    "    \"\"\"Scatter a neutrino of interest off of background neutrinos `n` times.\"\"\"\n",
    "    # The `theta` angle of a spherically uniform random 3D direction.\n",
    "    cos_theta = 2*np.random.rand(n) - 1\n",
    "    theta = arccos(cos_theta)\n",
    "\n",
    "    rho = np.array(rho0)\n",
    "    yield rho\n",
    "\n",
    "    for theta_ in theta:\n",
    "        rho = scatter_background(rho, rho_background, *args, theta=theta_, **kwargs)\n",
    "        yield rho\n",
    "\n",
    "\n",
    "def scatter_background(rho, rho_background, *args, **kwargs):\n",
    "    \"\"\"Scatter a neutrino of interest with (2x2) density matrix `rho` off of a\n",
    "    background neutrino with *independent* (2x2) density matrix\n",
    "    `rho_background`, and return the new density matrix for the neutrino of\n",
    "    interest.\"\"\"\n",
    "    rho_full = combine_rho(rho, rho_background)\n",
    "    rho_full = scatter(rho_full, *args, **kwargs)\n",
    "    rho = trace_out(rho_full)\n",
    "\n",
    "    return rho\n",
    "\n",
    "\n",
    "def scatter(rho, theta=pi/2, omega0_t=0.1):\n",
    "    \"\"\"Evolve the flavor density matrix of two neutrinos that scatter.\"\"\"\n",
    "    phase = np.exp(-2j * omega0_t * (1 - cos(theta)))\n",
    "\n",
    "    # Time evolution matrix.\n",
    "    N = 2\n",
    "    N_states = 2\n",
    "    U = np.zeros(2 * N * [N_states], dtype=complex)\n",
    "    U[0, 0, 0, 0] = U[1, 1, 1, 1] = phase\n",
    "    U[0, 1, 0, 1] = U[1, 0, 1, 0] = (phase + 1) / 2\n",
    "    U[0, 1, 1, 0] = U[1, 0, 0, 1] = (phase - 1) / 2\n",
    "\n",
    "    rho = matmul(matmul(U, rho), dagger(U))  # TODO\n",
    "    trace = np.trace(np.trace(rho, axis1=0, axis2=2))\n",
    "    rho /= trace  # TODO\n",
    "    # print(np.angle(trace))\n",
    "    \n",
    "    return rho\n",
    "\n",
    "\n",
    "def combine_rho(rho1, rho2):\n",
    "    \"\"\"Combine `rho1` and `rho2` into `rho` via a tensor product.\"\"\"\n",
    "    return np.moveaxis(np.tensordot(rho1, rho2, axes=0), 1, 2)\n",
    "\n",
    "\n",
    "def split_rho(rho):\n",
    "    \"\"\"Obtain each neutrino's density matrix by tracing out the other.\"\"\"\n",
    "    rho1 = np.trace(rho, axis1=1, axis2=3)\n",
    "    rho2 = np.trace(rho, axis1=0, axis2=2)\n",
    "    return rho1, rho2\n",
    "\n",
    "\n",
    "def matmul(A, B):\n",
    "    \"\"\"Multiply two (2, 2, 2, 2) arrays as if they were (4, 4) matrices.\"\"\"\n",
    "    return np.einsum('ijkl,klmn', A, B)\n",
    "\n",
    "\n",
    "def dagger(A):\n",
    "    \"\"\"Find the Hermitian conjugate of a (2, 2, 2, 2) array as if it was a\n",
    "    (4, 4) matrix.\"\"\"\n",
    "    return np.moveaxis(A, (0, 1), (2, 3)).conjugate()\n",
    "\n",
    "\n",
    "def trace_out(rho):\n",
    "    \"\"\"Take the trace with respect to the second neutrino.\"\"\"\n",
    "    return np.trace(rho, axis1=1, axis2=3)\n",
    "\n",
    "\n",
    "def flavor_expval(rho):\n",
    "    return rho[1, 1].real\n",
    "\n",
    "\n",
    "def entropy(rho):\n",
    "    return - np.trace(rho @ logm(rho)).real\n",
    "\n",
    "\n",
    "def pick_random_pairs(N, shape):\n",
    "    \"\"\"Pick two random (different) integers in [0, `N`).\"\"\"\n",
    "    # Any random choice.\n",
    "    choice1 = np.random.randint(0, N, shape)\n",
    "\n",
    "    # A random choice that's different from choice 1.\n",
    "    choice2 = (choice1 + np.random.randint(1, N, shape)) % N\n",
    "\n",
    "    return choice1, choice2\n",
    "\n",
    "\n",
    "def random_theta(shape):\n",
    "    \"\"\"Return the `theta` angles of spherically uniform random 3D directions.\"\"\"\n",
    "    cos_theta = 2*np.random.rand(shape) - 1\n",
    "    theta = arccos(cos_theta)\n",
    "\n",
    "    return theta\n"
   ]
  },
  {
   "cell_type": "code",
   "execution_count": null,
   "id": "0694c193-c8c0-4f28-8854-9e4a3deaa89d",
   "metadata": {},
   "outputs": [],
   "source": [
    "M = 20\n",
    "initial_states = np.array(M * [[[1, 0], [0, 0]]] + M * [[[0, 0], [0, 1]]], dtype=complex)"
   ]
  },
  {
   "cell_type": "code",
   "execution_count": null,
   "id": "acd8800b-4868-4a61-b8a2-f890e42d7b78",
   "metadata": {},
   "outputs": [],
   "source": [
    "states = np.array(list(random_scatter(initial_states, 5000, omega0_t=0.1)))"
   ]
  },
  {
   "cell_type": "code",
   "execution_count": null,
   "id": "44acf5c3-d2c2-4dee-87d1-30e7f2dbedc1",
   "metadata": {},
   "outputs": [],
   "source": [
    "import matplotlib.pyplot as plt\n",
    "\n",
    "flavor = states[:, :, 0, 0]\n",
    "plt.plot(-(flavor.real - 0.5))\n",
    "# plt.ylim(0, 1)\n",
    "plt.xlim(0, 5000)\n",
    "\n",
    "x = np.arange(len(flavor))\n",
    "y = 0.5*np.exp(-x/500)\n",
    "plt.plot(x, y, ls=':', lw=3, c='black')\n",
    "plt.yscale('log')"
   ]
  },
  {
   "cell_type": "code",
   "execution_count": null,
   "id": "fbefd4cc-4ad8-45b6-9fdb-9fef4d49ace7",
   "metadata": {},
   "outputs": [],
   "source": [
    "states2 = np.array(list(random_scatter(initial_states, 5000, omega0_t=0.1)))\n",
    "flavor2 = states2[..., 0, 0]\n",
    "trace2 = np.trace(states2, axis1=-2, axis2=-1)\n",
    "# plt.plot(flavor2.real)\n",
    "# plt.plot(trace2.real)\n",
    "plt.plot(np.angle(trace2))\n",
    "plt.plot(np.abs(trace2))\n",
    "# plt.plot(np.imag(states2[..., 0, 0]), c='black')\n",
    "plt.xlim(0, 5000)\n",
    "# plt.ylim(1 - 0.000000000001, 1 + 0.000000000001)"
   ]
  },
  {
   "cell_type": "code",
   "execution_count": null,
   "id": "6f280ab0-dc50-4650-aa8f-d27045d63e8f",
   "metadata": {},
   "outputs": [],
   "source": [
    "plt.plot(trace2.imag)"
   ]
  },
  {
   "cell_type": "code",
   "execution_count": null,
   "id": "cb95e01d-fb21-4ae0-b587-fe014fd614df",
   "metadata": {},
   "outputs": [],
   "source": [
    "rho1 = [[1/2, -1/2], [-1/2, 1/2]]\n",
    "rho2 = [[1/2, 0], [0, 1/2]]\n",
    "split_rho(scatter(combine_rho(rho1, rho2)))"
   ]
  },
  {
   "cell_type": "code",
   "execution_count": null,
   "id": "b079bb77-8c37-4d9f-91b1-4ff978418486",
   "metadata": {},
   "outputs": [],
   "source": [
    "rhofull = combine_rho(rho1, rho2)\n",
    "rhofull"
   ]
  },
  {
   "cell_type": "code",
   "execution_count": null,
   "id": "5c6ccf54-7b29-43a0-89f1-0908a418ab77",
   "metadata": {},
   "outputs": [],
   "source": [
    "states2[59]"
   ]
  },
  {
   "cell_type": "markdown",
   "id": "61cc9618-0413-4cc3-bcc1-60a7ac3125de",
   "metadata": {},
   "source": [
    "# "
   ]
  },
  {
   "cell_type": "code",
   "execution_count": null,
   "id": "82d0cedf-f467-4f14-826c-75d15c2ee11d",
   "metadata": {},
   "outputs": [],
   "source": [
    "# sanity check"
   ]
  },
  {
   "cell_type": "code",
   "execution_count": null,
   "id": "2b143f6c-5712-4c53-a7fe-7ca2314f03c5",
   "metadata": {},
   "outputs": [],
   "source": [
    "states3 = [np.array([[0, 0, 0, 0], [0, 1, 0, 0], [0, 0, 0, 0], [0, 0, 0, 0]]).reshape(2, 2, 2, 2)]\n",
    "for _ in range(100):\n",
    "    states3.append(scatter(states3[-1]))\n",
    "states3 = np.array([split_rho(s) for s in states3])"
   ]
  },
  {
   "cell_type": "code",
   "execution_count": null,
   "id": "d8fc3ad9-322c-46d3-b1df-c38349177afd",
   "metadata": {},
   "outputs": [],
   "source": [
    "plt.plot(states3[:, 1].sum(axis=(-1, -2)))"
   ]
  },
  {
   "cell_type": "code",
   "execution_count": null,
   "id": "d714e609-dd6e-4e5c-b43c-65f167cd2924",
   "metadata": {},
   "outputs": [],
   "source": [
    "states3[40, 0].sum()"
   ]
  },
  {
   "cell_type": "code",
   "execution_count": null,
   "id": "8da61a59-2645-40dd-bea6-d7955a8ac930",
   "metadata": {},
   "outputs": [],
   "source": []
  }
 ],
 "metadata": {
  "kernelspec": {
   "display_name": "Python 3 (ipykernel)",
   "language": "python",
   "name": "python3"
  },
  "language_info": {
   "codemirror_mode": {
    "name": "ipython",
    "version": 3
   },
   "file_extension": ".py",
   "mimetype": "text/x-python",
   "name": "python",
   "nbconvert_exporter": "python",
   "pygments_lexer": "ipython3",
   "version": "3.10.6"
  }
 },
 "nbformat": 4,
 "nbformat_minor": 5
}
