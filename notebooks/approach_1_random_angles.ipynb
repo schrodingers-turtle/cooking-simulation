{
 "cells": [
  {
   "cell_type": "code",
   "execution_count": null,
   "id": "c966f884-5b4d-44f5-bc76-27776e4d48d5",
   "metadata": {},
   "outputs": [],
   "source": [
    "import pickle\n",
    "\n",
    "import numpy as np\n",
    "\n",
    "with open('../data/data2.pickle', 'rb') as file:\n",
    "    data = pickle.load(file)\n",
    "\n",
    "data = [np.array(d) for d in data]"
   ]
  },
  {
   "cell_type": "code",
   "execution_count": null,
   "id": "fd8ca659-c54f-42e6-a1f9-ce0c658094b7",
   "metadata": {},
   "outputs": [],
   "source": [
    "import matplotlib.pyplot as plt\n",
    "\n",
    "plt.style.use('bmh')\n",
    "\n",
    "def analyze(datarow, n_e_max=None):\n",
    "    \"\"\"Treats the first `n_e_max` neutrinos as initially electron flavor and the rest as initially muon flavor.\"\"\"\n",
    "    entropies, flavors = datarow\n",
    "    N = len(entropies)\n",
    "\n",
    "    avg_entropy = entropies.mean(axis=0)\n",
    "    avg_flavor = flavors.mean(axis=0)\n",
    "\n",
    "    if n_e_max is None:\n",
    "        n_e_max = N//2\n",
    "\n",
    "    sorted_flavors = [flavors[:n_e_max], flavors[n_e_max:]]\n",
    "    sorted_avg_flavors = [f.mean(axis=0) for f in sorted_flavors]\n",
    "\n",
    "    return avg_flavor, sorted_avg_flavors, avg_entropy, sorted_flavors, entropies\n",
    "\n",
    "def plot(avg_flavor, sorted_avg_flavors, avg_entropy, sorted_flavors, entropies, style=0, ax=None, legend=True):\n",
    "  \"\"\"Copied from approach_1_fixed_angles.ipynb (and then modified a bit).\"\"\"\n",
    "  if ax is None:\n",
    "    fig, ax = plt.subplots(figsize=(5, 3), dpi=150)\n",
    "  else:\n",
    "    fig = ax.get_figure()\n",
    "\n",
    "  alpha = 0.5\n",
    "  for i, flavor in enumerate(sorted_flavors[0]):\n",
    "    label = r\"single particle flavors\" if i == 0 else None\n",
    "    ax.plot(flavor, c='red', alpha=alpha, label=label)\n",
    "  for i, flavor in enumerate(sorted_flavors[1]):\n",
    "    # label = r\"$\\nu_\\mu$ flavors\" if i == 0 else None\n",
    "    ax.plot(flavor, c='red', alpha=alpha, label=None)\n",
    "  for n, entropy_ in enumerate(entropies):\n",
    "    label = \"single particle entropies\" if n == 0 else None\n",
    "    ax.plot(entropy_, c='blue', alpha=alpha, label=label)\n",
    "\n",
    "  if style == 1:\n",
    "    ax.plot(avg_entropy, c='black', lw=2, label=r\"average entropy\")\n",
    "\n",
    "  if style == 2:\n",
    "    ax.plot(avg_entropy, c='black', lw=2, label=r\"averages\")\n",
    "    ax.plot(sorted_avg_flavors[0], c='black', lw=2)\n",
    "    ax.plot(sorted_avg_flavors[1], c='black', lw=2)\n",
    "    ax.axhline(np.mean(avg_flavor), c='black', lw=2, zorder=-1)\n",
    "  else:\n",
    "    ax.axhline(np.mean(avg_flavor), c='black', lw=2, zorder=-1, label=\"average flavor\")\n",
    "\n",
    "  ax.axhline(np.log(2), c='black', ls=':', zorder=-1)\n",
    "\n",
    "  ax.set_xlabel(\"Number of interactions\")\n",
    "\n",
    "  if legend:\n",
    "    ax.legend(fontsize=9)\n",
    "  \n",
    "  fig.tight_layout()"
   ]
  },
  {
   "cell_type": "code",
   "execution_count": null,
   "id": "8fe36a22-b838-4c78-865b-77268c8a1b60",
   "metadata": {},
   "outputs": [],
   "source": [
    "plot(*analyze(data[0][..., :29]))"
   ]
  },
  {
   "cell_type": "code",
   "execution_count": null,
   "id": "d6b63794-0401-4f77-bbd3-0c1ee8c6b2cd",
   "metadata": {},
   "outputs": [],
   "source": [
    "for i in range(11):\n",
    "    plot(*analyze(data[i][..., :]), style=2)"
   ]
  },
  {
   "cell_type": "code",
   "execution_count": null,
   "id": "665c7c8e-fb90-4b1f-87d1-ccdf7be7129b",
   "metadata": {},
   "outputs": [],
   "source": [
    "fig, axes = plt.subplots(2, 2, figsize=(8, 6), dpi=200)\n",
    "\n",
    "data_indices = [0, 1, 4, 10]\n",
    "max_interactions = [28, 100, 500, None]\n",
    "styles = [0, 0, 2, 2]\n",
    "\n",
    "for i, (ax, index, style, max_interactions_) in enumerate(zip(axes.flatten(), data_indices, styles, max_interactions)):\n",
    "    plot(*analyze(data[index][..., :max_interactions_]), style=style, ax=ax, legend=False)\n",
    "\n",
    "    title = rf\"$N = {2 * (index + 1)}$ (${index + 1}\\ \\nu_e$, ${index + 1}\\ \\nu_\\mu$)\"\n",
    "    ax.set_title(title)\n",
    "\n",
    "axes[0, 0].legend(loc='upper left')\n",
    "axes[0, 1].legend(loc='upper right')\n",
    "axes[1, 0].legend(loc='lower left')\n",
    "axes[1, 1].legend(loc='lower right')"
   ]
  },
  {
   "cell_type": "code",
   "execution_count": null,
   "id": "c86006bd-3275-4394-9e74-4a12e6fc29ce",
   "metadata": {},
   "outputs": [],
   "source": [
    "with open('../data/data3.pickle', 'rb') as file:\n",
    "    data3 = pickle.load(file)\n",
    "\n",
    "data3 = np.array(data3[0])"
   ]
  },
  {
   "cell_type": "code",
   "execution_count": null,
   "id": "8c489a52-e9d1-4480-a100-29017a0ea679",
   "metadata": {},
   "outputs": [],
   "source": [
    "data3.shape"
   ]
  },
  {
   "cell_type": "code",
   "execution_count": null,
   "id": "09025bf8-b3ec-4dd1-b95b-4a14f4f60252",
   "metadata": {},
   "outputs": [],
   "source": [
    "fig, ax = plt.subplots(figsize=(4, 3), dpi=300)\n",
    "plot(*analyze(data3[..., :2000], n_e_max=9), style=2, ax=ax)\n",
    "ax.set_title(r\"$N = 16$ ($9\\ \\nu_e$, $7\\ \\nu_\\mu$)\")"
   ]
  },
  {
   "cell_type": "code",
   "execution_count": null,
   "id": "47658ea5-9905-401a-badc-975b343d0404",
   "metadata": {},
   "outputs": [],
   "source": []
  }
 ],
 "metadata": {
  "kernelspec": {
   "display_name": "Python 3 (ipykernel)",
   "language": "python",
   "name": "python3"
  },
  "language_info": {
   "codemirror_mode": {
    "name": "ipython",
    "version": 3
   },
   "file_extension": ".py",
   "mimetype": "text/x-python",
   "name": "python",
   "nbconvert_exporter": "python",
   "pygments_lexer": "ipython3",
   "version": "3.10.6"
  }
 },
 "nbformat": 4,
 "nbformat_minor": 5
}
