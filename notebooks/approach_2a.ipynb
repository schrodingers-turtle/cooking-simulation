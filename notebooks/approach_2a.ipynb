{
 "cells": [
  {
   "cell_type": "code",
   "execution_count": null,
   "id": "727f4783-1855-4e57-a5bc-90ea9e9153e7",
   "metadata": {},
   "outputs": [],
   "source": [
    "\"\"\"Tests of the analytic solution for approach 2 (for a neutrino of interest in a background).\n",
    "\n",
    "Created 11 Nov 2023.\n",
    "\"\"\"\n",
    "import numpy as np\n",
    "from numpy import pi, cross, cos, arccos\n",
    "\n",
    "\n",
    "def scatter_backgrounds(a0, b, n, mu_t):\n",
    "    a0, b = np.array(a0), np.array(b)\n",
    "\n",
    "    # cos_theta = 2 * np.random.rand(n) - 1\n",
    "    # theta = arccos(cos_theta)\n",
    "\n",
    "    theta = pi/2 * np.ones(n)\n",
    "\n",
    "    a = [a0]\n",
    "    for theta_ in theta:\n",
    "        a.append(scatter(a[-1], b, mu_t, theta_))\n",
    "\n",
    "    return np.array(a)\n",
    "\n",
    "\n",
    "def scatter(a, b, mu_t, theta=pi/2):\n",
    "    coeff = mu_t * (1 - cos(theta))\n",
    "    da = - coeff * cross(a, b) - coeff**2 * (a - b)\n",
    "    return a + da"
   ]
  },
  {
   "cell_type": "code",
   "execution_count": null,
   "id": "dd71e972-a4dc-4a81-9a0c-bea439d989e2",
   "metadata": {},
   "outputs": [],
   "source": [
    "mu_t = 0.1\n",
    "n = 1000\n",
    "a = scatter_backgrounds([0, 0, 1], [1, 0, 0], n, mu_t)"
   ]
  },
  {
   "cell_type": "code",
   "execution_count": null,
   "id": "d215bc9f-97d5-4b58-a8e0-444d5b70d199",
   "metadata": {},
   "outputs": [],
   "source": [
    "import matplotlib.pyplot as plt\n",
    "\n",
    "plt.plot(-a[:, 2], ls=':')\n",
    "plt.plot(-a[:, 1], ls=':')\n",
    "plt.plot(a[:, 0], ls=':', lw=3)\n",
    "\n",
    "for i in range(0):\n",
    "    plt.axvline(i * 2*pi/mu_t, c='black')\n",
    "\n",
    "x = np.arange(len(a))\n",
    "y = np.exp(- mu_t**2 * x / 2)\n",
    "plt.plot(x, y, c='red')\n",
    "\n",
    "plt.plot((1 - np.linalg.norm(a, axis=-1)) * np.log(2))\n",
    "\n",
    "# plt.plot(np.linalg.norm(a, axis=-1))\n",
    "\n",
    "# plt.yscale('log')"
   ]
  },
  {
   "cell_type": "code",
   "execution_count": null,
   "id": "7900167d-9ae1-441d-8769-3a14c40879d5",
   "metadata": {},
   "outputs": [],
   "source": [
    "# Plain dumb math check.\n",
    "from scipy.integrate import solve_ivp\n",
    "\n",
    "a0 = np.array([0, 0, 1])\n",
    "b = np.array([1, 0, 0]) * 0.3\n",
    "c = 0.01\n",
    "\n",
    "def integrand(t, a):\n",
    "    return - c*np.cross(a, b) - c**2*(a - b)\n",
    "\n",
    "sol = solve_ivp(integrand, t_span=(0, 10000), y0=a0)\n",
    "\n",
    "plt.plot(sol.t, sol.y[2])\n",
    "plt.plot(sol.t, np.exp(- c**2 * sol.t))\n"
   ]
  },
  {
   "cell_type": "code",
   "execution_count": null,
   "id": "14f016e8-2bf1-4707-b5a7-8b43df89283e",
   "metadata": {},
   "outputs": [],
   "source": [
    "# Plain dumb integration check.\n",
    "\n",
    "dt = 1\n",
    "\n",
    "def evolve(a):\n",
    "    return a - dt*(c*np.cross(a, b) + c**2*(a - b) * 0)\n",
    "\n",
    "a = [a0]\n",
    "for _ in range(20000):\n",
    "    a.append(evolve(a[-1]))\n",
    "a = np.array(a)\n",
    "\n",
    "\n",
    "plt.plot(a[:, 2])\n",
    "plt.plot(np.linalg.norm(a, axis=1), c='lime')\n",
    "\n",
    "x = np.arange(len(a))\n",
    "plt.plot(x, np.exp(- c**2 * x*dt * 0), ls='--', lw=2, alpha=0.8)\n",
    "plt.plot(x, np.exp(- c**2 * x*dt/(2) * 0), ls='--', lw=2, alpha=0.8)\n",
    "plt.plot(x, np.exp(+ c**2 * x*dt/(2) * np.linalg.norm(b)**2), ls='--', lw=2, alpha=0.8)"
   ]
  },
  {
   "cell_type": "code",
   "execution_count": null,
   "id": "7c1f7ddb-e891-40b9-9b2c-da4840f7c5e8",
   "metadata": {},
   "outputs": [],
   "source": []
  },
  {
   "cell_type": "code",
   "execution_count": null,
   "id": "eb734ae8-00a5-4508-b535-4b19205de27d",
   "metadata": {},
   "outputs": [],
   "source": []
  }
 ],
 "metadata": {
  "kernelspec": {
   "display_name": "Python 3 (ipykernel)",
   "language": "python",
   "name": "python3"
  },
  "language_info": {
   "codemirror_mode": {
    "name": "ipython",
    "version": 3
   },
   "file_extension": ".py",
   "mimetype": "text/x-python",
   "name": "python",
   "nbconvert_exporter": "python",
   "pygments_lexer": "ipython3",
   "version": "3.10.6"
  }
 },
 "nbformat": 4,
 "nbformat_minor": 5
}
