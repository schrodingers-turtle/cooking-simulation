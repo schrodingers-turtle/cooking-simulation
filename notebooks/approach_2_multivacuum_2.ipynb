{
 "cells": [
  {
   "cell_type": "markdown",
   "id": "b55b00b3-1f97-4d70-8f27-cfefbf202450",
   "metadata": {},
   "source": [
    "# Load in some saved data and plot it."
   ]
  },
  {
   "cell_type": "code",
   "execution_count": null,
   "id": "20ee1b67-23be-4488-b79f-03b69d410c21",
   "metadata": {},
   "outputs": [],
   "source": [
    "import numpy as np\n",
    "\n",
    "sample_period = 1000\n",
    "\n",
    "M = 50\n",
    "\n",
    "fac = 1000\n",
    "l = 1 / fac\n",
    "n = 5000 * fac * 2\n",
    "\n",
    "omega = np.array([0.1, 0.2])\n",
    "theta = 0.1"
   ]
  },
  {
   "cell_type": "code",
   "execution_count": null,
   "id": "16474140-98a0-4b03-8285-98db57978084",
   "metadata": {},
   "outputs": [],
   "source": [
    "import pickle\n",
    "\n",
    "filename = f'../approach2/M-{M}-l-{l}-n-{n}-P-{sample_period}.pickle'\n",
    "\n",
    "with open(filename, 'rb') as file:\n",
    "    data = pickle.load(file)"
   ]
  },
  {
   "cell_type": "code",
   "execution_count": null,
   "id": "3afa5762-3615-4f43-81ff-1d1f40f710ea",
   "metadata": {},
   "outputs": [],
   "source": [
    "from numpy import sin, cos\n",
    "from scipy.integrate import solve_ivp\n",
    "\n",
    "omega_hat = np.array([sin(2*theta), 0, -cos(2*theta)])\n",
    "omega_e = omega[0] * omega_hat\n",
    "omega_x = omega[1] * omega_hat\n",
    "\n",
    "def integrand(i, y):\n",
    "    e, x = y.reshape(2, 3)\n",
    "    b = (e + x) / 2\n",
    "\n",
    "    random_angle_factor = 4 / 3\n",
    "    \n",
    "    de = - l * (np.cross(e, b + omega_e) + random_angle_factor * l * ((e - b) + np.cross(np.cross(e, b), b / 2 - omega_e / random_angle_factor)))\n",
    "    dx = - l * (np.cross(x, b + omega_x) + random_angle_factor * l * ((x - b) + np.cross(np.cross(x, b), b / 2 - omega_x / random_angle_factor)))\n",
    "\n",
    "    dy = np.concatenate([de, dx])\n",
    "    return dy\n",
    "\n",
    "y0 = np.concatenate([[0, 0, 1], [0, 0, -1]])\n",
    "\n",
    "u = np.arange(n / M)\n",
    "sol = solve_ivp(integrand, (0, n/M), y0, t_eval=u)\n",
    "\n",
    "e, x = sol.y.reshape(2, 3, -1)"
   ]
  },
  {
   "cell_type": "code",
   "execution_count": null,
   "id": "b1a4c9fd-63aa-4dd0-b712-eb3e7746d116",
   "metadata": {},
   "outputs": [],
   "source": [
    "import numpy as np\n",
    "import matplotlib.pyplot as plt\n",
    "\n",
    "# plt.style.use('bmh')\n",
    "\n",
    "fig, ax = plt.subplots(figsize=(5, 3), dpi=200)\n",
    "\n",
    "mean_e_color = 'C0'\n",
    "std_e_color = 'C0'\n",
    "mean_x_color = 'C1'\n",
    "std_x_color = 'C1'\n",
    "\n",
    "analytic_color = 'black'\n",
    "mean_flavor_color = 'C2'\n",
    "\n",
    "std_alpha = 0.4\n",
    "\n",
    "u2 = np.arange(len(data)) * sample_period\n",
    "\n",
    "flavor_e = 2 * np.abs(data[:, :M, 0, 0]) - 1\n",
    "flavor_x = 2 * np.abs(data[:, M:, 0, 0]) - 1\n",
    "mean_e = flavor_e.mean(axis=1)\n",
    "mean_x = flavor_x.mean(axis=1)\n",
    "mean = (mean_e + mean_x) / 2\n",
    "\n",
    "# purity_e = np.abs(data[:, :m, 0, 1)\n",
    "\n",
    "std_e = flavor_e.std(axis=1)\n",
    "std_x = flavor_x.std(axis=1)\n",
    "\n",
    "ax.plot(u2, mean_e, lw=2, c=mean_e_color)\n",
    "ax.plot(u2, mean_x, lw=2, c=mean_x_color)\n",
    "ax.plot(u2, mean, lw=2, c=mean_flavor_color)\n",
    "\n",
    "ax.fill_between(u2, mean_e - std_e, mean_e + std_e, alpha=std_alpha, facecolor=std_e_color)\n",
    "ax.fill_between(u2, mean_x - std_x, mean_x + std_x, alpha=std_alpha, facecolor=std_x_color)\n",
    "\n",
    "ax.plot(M * sol.t, e[2, :], c=analytic_color, ls='-', lw=0.75)\n",
    "ax.plot(M * sol.t, x[2, :], c=analytic_color, ls='-', lw=0.75)\n",
    "ax.plot(M * sol.t, (e[2, :] + x[2, :])/2, c=analytic_color, ls='-', lw=0.75)\n",
    "\n",
    "ax.plot(M * sol.t, (e[0]**2 + e[1]**2 + e[2]**2)**(1/2), lw=3)\n",
    "\n",
    "ax.set_xlabel(\"$N_{sc}$ (total number of scatters)\")\n",
    "ax.set_ylabel(r\"$a_z$ (flavor expectation value)\")\n",
    "\n",
    "text = rf\"$\\ell = {l}$, $\\omega = ({omega[0]}, {omega[1]})$, $\\theta = {theta}$, $N = {2*M}$\"\n",
    "ax.text(0.98, 0.98, text, transform=ax.transAxes, ha='right', va='top')\n",
    "\n",
    "ax.set_xlim(0, n)\n",
    "ax.set_ylim(-1, 1)\n",
    "ax.set_yticks([-1, -0.5, 0, 0.5, 1])\n",
    "\n",
    "# ax.set_xlim(0, 3000)\n",
    "# ax.set_ylim(-0.1, 0.1)"
   ]
  },
  {
   "cell_type": "code",
   "execution_count": null,
   "id": "5c2f924f-561e-4d91-b605-0b5bcf25ce68",
   "metadata": {},
   "outputs": [],
   "source": [
    "fig, ax = plt.subplots(dpi=200)\n",
    "ax.plot(u2, 2 * data[..., 0, 0] - 1)\n",
    "ax.axis('off')\n",
    "None"
   ]
  },
  {
   "cell_type": "code",
   "execution_count": null,
   "id": "5ab9db78-dc39-49b2-afd9-c5739d6d9481",
   "metadata": {},
   "outputs": [],
   "source": []
  }
 ],
 "metadata": {
  "kernelspec": {
   "display_name": "Python 3 (ipykernel)",
   "language": "python",
   "name": "python3"
  },
  "language_info": {
   "codemirror_mode": {
    "name": "ipython",
    "version": 3
   },
   "file_extension": ".py",
   "mimetype": "text/x-python",
   "name": "python",
   "nbconvert_exporter": "python",
   "pygments_lexer": "ipython3",
   "version": "3.10.6"
  }
 },
 "nbformat": 4,
 "nbformat_minor": 5
}
