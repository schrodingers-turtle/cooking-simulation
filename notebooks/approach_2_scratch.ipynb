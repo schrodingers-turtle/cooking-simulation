{
 "cells": [
  {
   "cell_type": "markdown",
   "id": "e1d11002-32d3-4add-904a-de850bc887f2",
   "metadata": {},
   "source": [
    "# $V + \\Omega$ time evolution matrix test\n",
    "8 Jan 2024"
   ]
  },
  {
   "cell_type": "code",
   "execution_count": null,
   "id": "26819e4c-46ae-4856-adb1-35d26c459705",
   "metadata": {},
   "outputs": [],
   "source": [
    "import numpy as np\n",
    "from numpy import exp\n",
    "from numpy.linalg import inv"
   ]
  },
  {
   "cell_type": "code",
   "execution_count": null,
   "id": "9847c10d-f181-4845-873a-0235d2f71feb",
   "metadata": {},
   "outputs": [],
   "source": [
    "mubar = 1\n",
    "DeltaZ = 1\n",
    "omegaA = 0.1\n",
    "omegaB = 0.2\n",
    "\n",
    "DeltaOmega = omegaB - omegaA\n",
    "K = (DeltaOmega**2 + 4*mubar**2)**(1/2)\n",
    "\n",
    "S = np.array([\n",
    "    [(DeltaOmega - K)/(2*mubar), (DeltaOmega + K)/(2*mubar)],\n",
    "    [1, 1]\n",
    "])\n",
    "Sinv = np.array([\n",
    "    [-mubar/K, (1 + DeltaOmega/K)/2],\n",
    "    [mubar/K, (1 - DeltaOmega/K)/2]\n",
    "])\n",
    "expJ = np.diag([exp(-1j * (-mubar - K)/2 * DeltaZ), exp(-1j * (-mubar + K)/2 * DeltaZ)])\n",
    "\n",
    "S @ expJ @ Sinv"
   ]
  },
  {
   "cell_type": "code",
   "execution_count": null,
   "id": "919a5a85-e601-4597-ba7c-b98ddd630663",
   "metadata": {},
   "outputs": [],
   "source": [
    "U = np.zeros((4, 4), dtype=complex)\n",
    "\n",
    "U[1:3, 1:3] = S @ expJ @ Sinv\n",
    "U[0, 0] = exp(-1j * (-omegaA - omegaB + mubar)/2 * DeltaZ)\n",
    "U[3, 3] = exp(-1j * (omegaA + omegaB + mubar)/2 * DeltaZ)\n",
    "\n",
    "U.round(2)"
   ]
  },
  {
   "cell_type": "code",
   "execution_count": null,
   "id": "6cc71089-5077-4078-978e-ad02ec35dc54",
   "metadata": {},
   "outputs": [],
   "source": [
    "np.random.rand(5)"
   ]
  },
  {
   "cell_type": "code",
   "execution_count": null,
   "id": "5b1e81bf-a81a-40cd-bef7-dff82fdd7e6d",
   "metadata": {},
   "outputs": [],
   "source": [
    "np.random.seed(42)"
   ]
  },
  {
   "cell_type": "code",
   "execution_count": null,
   "id": "6fcaaf92-63ef-4961-b277-4b65453ad206",
   "metadata": {},
   "outputs": [],
   "source": [
    "u = np.random.rand(2, 2)\n",
    "v = np.random.rand(2, 2)"
   ]
  },
  {
   "cell_type": "code",
   "execution_count": null,
   "id": "b3555874-068b-4e86-b6f8-20a9f45c0076",
   "metadata": {},
   "outputs": [],
   "source": [
    "np.tensordot(u, v, axes=0)"
   ]
  },
  {
   "cell_type": "code",
   "execution_count": null,
   "id": "6af8c0d4-758a-4dde-bdd9-56c6eea35790",
   "metadata": {},
   "outputs": [],
   "source": [
    "u = np.ones((2, 3))\n",
    "v = np.ones((4, 5))\n",
    "np.moveaxis(np.tensordot(u, v, axes=0), 1, 2).reshape(2, 3, 4, 5).shape"
   ]
  },
  {
   "cell_type": "code",
   "execution_count": null,
   "id": "2cba37f9-78bd-48d9-9293-cdb0e9870d4f",
   "metadata": {},
   "outputs": [],
   "source": [
    "np.arange(3*3*3).reshape(3, 3, 3)"
   ]
  },
  {
   "cell_type": "code",
   "execution_count": null,
   "id": "dbd572b7-7c96-4e00-abb6-4e448060ff17",
   "metadata": {},
   "outputs": [],
   "source": [
    "u.trace()"
   ]
  },
  {
   "cell_type": "code",
   "execution_count": null,
   "id": "68fb9cfa-98c7-428c-ae86-975547c2d0e8",
   "metadata": {},
   "outputs": [],
   "source": [
    "u = 0\n",
    "for i in range(int(1e7)):\n",
    "  u += 1\n",
    "  u += 2\n",
    "  u += 5"
   ]
  },
  {
   "cell_type": "code",
   "execution_count": null,
   "id": "02c58aee-1dd5-47be-a8f5-14e21e3776a2",
   "metadata": {},
   "outputs": [],
   "source": [
    "u = np.arange(9).reshape(3, 3)\n",
    "u[(u > 3) & (u < 5)] = 0\n",
    "np.where((u > 3) & (u < 5), 0, 2)"
   ]
  },
  {
   "cell_type": "code",
   "execution_count": null,
   "id": "826c6260-8043-4d72-9f81-c98e8f191c22",
   "metadata": {},
   "outputs": [],
   "source": [
    "pauli = np.ones((3, 2, 2))\n",
    "bloch = np.ones((10, 20, 3))\n",
    "np.tensordot(bloch, pauli, axes=1).shape"
   ]
  },
  {
   "cell_type": "code",
   "execution_count": null,
   "id": "9d253ca1-51bf-4ca8-a334-613ddf71b956",
   "metadata": {},
   "outputs": [],
   "source": [
    "u = np.arange(9).reshape(3, 3)\n",
    "u = u * np.array([0, 1, 10])\n",
    "u"
   ]
  },
  {
   "cell_type": "code",
   "execution_count": null,
   "id": "f4b06e60-4f04-469d-8a45-be926bea9b94",
   "metadata": {},
   "outputs": [],
   "source": [
    "v = np.arange(12).reshape(3, 4)\n",
    "v = v * np.array([0, 1, 10])\n",
    "v"
   ]
  },
  {
   "cell_type": "code",
   "execution_count": null,
   "id": "2e6f9eed-8664-4a41-9789-cefdd1e55401",
   "metadata": {},
   "outputs": [],
   "source": [
    "np.tensordot(v, v.T, axes=[0, 1])"
   ]
  },
  {
   "cell_type": "code",
   "execution_count": null,
   "id": "f478fee8-f39c-4861-a1f0-72ac938c298b",
   "metadata": {},
   "outputs": [],
   "source": [
    "rho = np.ones((10, 20, 2, 2))\n",
    "pauli = np.ones((3, 2, 1))\n",
    "# np.trace(np.dot(rho, pauli), axis1=-3, axis2=-1).shape\n",
    "np.dot(rho, pauli).shape"
   ]
  },
  {
   "cell_type": "code",
   "execution_count": null,
   "id": "c31f35a2-d0f3-4b51-be3e-cfe0ca827906",
   "metadata": {},
   "outputs": [],
   "source": []
  }
 ],
 "metadata": {
  "kernelspec": {
   "display_name": "Python 3 (ipykernel)",
   "language": "python",
   "name": "python3"
  },
  "language_info": {
   "codemirror_mode": {
    "name": "ipython",
    "version": 3
   },
   "file_extension": ".py",
   "mimetype": "text/x-python",
   "name": "python",
   "nbconvert_exporter": "python",
   "pygments_lexer": "ipython3",
   "version": "3.10.12"
  }
 },
 "nbformat": 4,
 "nbformat_minor": 5
}
