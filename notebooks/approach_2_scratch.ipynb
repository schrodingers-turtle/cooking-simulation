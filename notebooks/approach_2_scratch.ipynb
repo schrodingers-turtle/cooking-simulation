{
 "cells": [
  {
   "cell_type": "markdown",
   "id": "e1d11002-32d3-4add-904a-de850bc887f2",
   "metadata": {},
   "source": [
    "# $V + \\Omega$ time evolution matrix test\n",
    "8 Jan 2024"
   ]
  },
  {
   "cell_type": "code",
   "execution_count": null,
   "id": "26819e4c-46ae-4856-adb1-35d26c459705",
   "metadata": {},
   "outputs": [],
   "source": [
    "import numpy as np\n",
    "from numpy import exp\n",
    "from numpy.linalg import inv"
   ]
  },
  {
   "cell_type": "code",
   "execution_count": null,
   "id": "9847c10d-f181-4845-873a-0235d2f71feb",
   "metadata": {},
   "outputs": [],
   "source": [
    "mubar = 1\n",
    "DeltaZ = 1\n",
    "omegaA = 0.1\n",
    "omegaB = 0.2\n",
    "\n",
    "DeltaOmega = omegaB - omegaA\n",
    "K = (DeltaOmega**2 + 4*mubar**2)**(1/2)\n",
    "\n",
    "S = np.array([\n",
    "    [(DeltaOmega - K)/(2*mubar), (DeltaOmega + K)/(2*mubar)],\n",
    "    [1, 1]\n",
    "])\n",
    "Sinv = np.array([\n",
    "    [-mubar/K, (1 + DeltaOmega/K)/2],\n",
    "    [mubar/K, (1 - DeltaOmega/K)/2]\n",
    "])\n",
    "expJ = np.diag([exp(-1j * (-mubar - K)/2 * DeltaZ), exp(-1j * (-mubar + K)/2 * DeltaZ)])\n",
    "\n",
    "S @ expJ @ Sinv"
   ]
  },
  {
   "cell_type": "code",
   "execution_count": null,
   "id": "919a5a85-e601-4597-ba7c-b98ddd630663",
   "metadata": {},
   "outputs": [],
   "source": [
    "U = np.zeros((4, 4), dtype=complex)\n",
    "\n",
    "U[1:3, 1:3] = S @ expJ @ Sinv\n",
    "U[0, 0] = exp(-1j * (-omegaA - omegaB + mubar)/2 * DeltaZ)\n",
    "U[3, 3] = exp(-1j * (omegaA + omegaB + mubar)/2 * DeltaZ)\n",
    "\n",
    "U.round(2)"
   ]
  },
  {
   "cell_type": "code",
   "execution_count": null,
   "id": "6cc71089-5077-4078-978e-ad02ec35dc54",
   "metadata": {},
   "outputs": [],
   "source": [
    "np.random.rand(5)"
   ]
  },
  {
   "cell_type": "code",
   "execution_count": null,
   "id": "5b1e81bf-a81a-40cd-bef7-dff82fdd7e6d",
   "metadata": {},
   "outputs": [],
   "source": [
    "np.random.seed(42)"
   ]
  },
  {
   "cell_type": "code",
   "execution_count": null,
   "id": "6fcaaf92-63ef-4961-b277-4b65453ad206",
   "metadata": {},
   "outputs": [],
   "source": []
  }
 ],
 "metadata": {
  "kernelspec": {
   "display_name": "Python 3 (ipykernel)",
   "language": "python",
   "name": "python3"
  },
  "language_info": {
   "codemirror_mode": {
    "name": "ipython",
    "version": 3
   },
   "file_extension": ".py",
   "mimetype": "text/x-python",
   "name": "python",
   "nbconvert_exporter": "python",
   "pygments_lexer": "ipython3",
   "version": "3.10.12"
  }
 },
 "nbformat": 4,
 "nbformat_minor": 5
}
