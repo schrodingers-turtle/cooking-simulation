{
 "cells": [
  {
   "cell_type": "code",
   "execution_count": null,
   "id": "115dc32e-90b4-4e11-a640-52f5d9fd1bbe",
   "metadata": {
    "jupyter": {
     "source_hidden": true
    }
   },
   "outputs": [],
   "source": [
    "\"\"\"Scatter a particular neutrino off of many other \"background\" neutrinos.\n",
    "\n",
    "Created 17 October 2023.\n",
    "\"\"\"\n",
    "import numpy as np\n",
    "from numpy import pi, cos\n",
    "from scipy.linalg import logm\n",
    "\n",
    "\n",
    "def random_scatter(rho0, rho_background, n, *args, **kwargs):\n",
    "    \"\"\"Scatter a neutrino of interest off of background neutrinos `n` times.\"\"\"\n",
    "    theta = pi * np.random.rand(n)\n",
    "\n",
    "    rho = np.array(rho0)\n",
    "    yield rho\n",
    "\n",
    "    for theta_ in theta:\n",
    "        rho = scatter_background(rho, rho_background, *args, theta=theta_, **kwargs)\n",
    "        yield rho\n",
    "\n",
    "\n",
    "def scatter_background(rho, rho_background, *args, **kwargs):\n",
    "    \"\"\"Scatter a neutrino of interest with (2x2) density matrix `rho` off of a\n",
    "    background neutrino with *independent* (2x2) density matrix\n",
    "    `rho_background`, and return the new density matrix for the neutrino of\n",
    "    interest.\"\"\"\n",
    "    rho_full = np.moveaxis(np.tensordot(rho, rho_background, axes=0), 1, 2)\n",
    "    rho_full = scatter(rho_full, *args, **kwargs)\n",
    "    rho = trace_out(rho_full)\n",
    "\n",
    "    return rho\n",
    "\n",
    "\n",
    "def scatter(rho, theta=pi/2, omega0_t=0.1):\n",
    "    \"\"\"Evolve the flavor density matrix of two neutrinos that scatter.\"\"\"\n",
    "    phase = np.exp(-2j * omega0_t * (1 - cos(theta)))\n",
    "\n",
    "    # Time evolution matrix.\n",
    "    N = 2\n",
    "    N_states = 2\n",
    "    U = np.zeros(2 * N * [N_states], dtype=complex)\n",
    "    U[0, 0, 0, 0] = U[1, 1, 1, 1] = phase\n",
    "    U[0, 1, 0, 1] = U[1, 0, 1, 0] = (phase + 1) / 2\n",
    "    U[0, 1, 1, 0] = U[1, 0, 0, 1] = (phase - 1) / 2\n",
    "\n",
    "    rho = matmul(matmul(U, rho), dagger(U))  # TODO\n",
    "    return rho\n",
    "\n",
    "\n",
    "def matmul(A, B):\n",
    "    \"\"\"Multiply two (2, 2, 2, 2) arrays as if they were (4, 4) matrices.\"\"\"\n",
    "    return np.einsum('ijkl,klmn', A, B)\n",
    "\n",
    "\n",
    "def dagger(A):\n",
    "    \"\"\"Find the Hermitian conjugate of a (2, 2, 2, 2) array as if it was a\n",
    "    (4, 4) matrix.\"\"\"\n",
    "    return np.moveaxis(A, (0, 1), (2, 3)).conjugate()\n",
    "\n",
    "\n",
    "def trace_out(rho):\n",
    "    \"\"\"Take the trace with respect to the second neutrino.\"\"\"\n",
    "    return np.trace(rho, axis1=1, axis2=3)\n",
    "\n",
    "\n",
    "def flavor_expval(rho):\n",
    "    return rho[1, 1].real\n",
    "\n",
    "\n",
    "def entropy(rho):\n",
    "    return - np.trace(rho @ logm(rho)).real\n"
   ]
  },
  {
   "cell_type": "code",
   "execution_count": null,
   "id": "da26a280-848c-43f7-8be7-747eb68275af",
   "metadata": {},
   "outputs": [],
   "source": [
    "# rho = list(random_scatter([[1/2, 1/2], [1/2, 1/2]], [[1/2, -1/2], [-1/2, 1/2]], 500))\n",
    "# rho = list(random_scatter([[1/2, 0], [0, 1/2]], [[1/2, 1/2], [1/2, 1/2]], 500))\n",
    "# rho = list(random_scatter([[1, 0], [0, 0]], [[1/2, 0], [0, 1/2]], 500))\n",
    "rho = list(random_scatter([[1, 0], [0, 0]], [[1/2, 1/2], [1/2, 1/2]], 500))\n",
    "# rho = list(random_scatter([[1, 0], [0, 0]], [[0, 0], [0, 1]], 500))"
   ]
  },
  {
   "cell_type": "code",
   "execution_count": null,
   "id": "cf7911bd-0801-4cf8-94c1-b5b9b66f2f97",
   "metadata": {},
   "outputs": [],
   "source": [
    "import matplotlib.pyplot as plt\n",
    "\n",
    "plt.style.use('bmh')\n",
    "\n",
    "def graph(ax, title, *args, **kwargs):\n",
    "    rho = list(random_scatter(*args, **kwargs))\n",
    "    \n",
    "    flavor = [flavor_expval(rho_) for rho_ in rho]\n",
    "    entropy_ = [entropy(rho_) for rho_ in rho]\n",
    "    \n",
    "    ax.plot(flavor, label=\"Flavor expval\")\n",
    "    ax.plot(entropy_, label=\"Entropy\")\n",
    "    ax.axhline(np.log(2), c='black', ls=':', label=\"Maximal entropy\")\n",
    "\n",
    "    ax.set_ylim(0, 1)\n",
    "    \n",
    "    ax.set_title(title)\n",
    "    ax.set_xlabel(\"Number of interactions\")"
   ]
  },
  {
   "cell_type": "code",
   "execution_count": null,
   "id": "85b62dc1-510a-41ac-804a-5313b161308e",
   "metadata": {},
   "outputs": [],
   "source": [
    "fig, ax = plt.subplots(2, 2, figsize=(8, 6), dpi=200)\n",
    "\n",
    "titles = [\n",
    "    r\"$| \\nu_e \\rangle$ scattered by $| \\nu_\\mu \\rangle$\",\n",
    "    r\"$| \\nu_e \\rangle$ scattered by $(| \\nu_e \\rangle + | \\nu_\\mu \\rangle) / \\sqrt{2}$\",\n",
    "    r\"$| \\nu_e \\rangle$ scattered by mixed $\\nu$'s\",\n",
    "    r\"mixed $\\nu$'s scattered by $(| \\nu_e \\rangle + | \\nu_\\mu \\rangle) / \\sqrt{2}$\"\n",
    "]\n",
    "\n",
    "graph(ax[0, 0], titles[0], [[1, 0], [0, 0]], [[0, 0], [0, 1]], 500)\n",
    "graph(ax[0, 1], titles[1], [[1, 0], [0, 0]], [[1/2, 1/2], [1/2, 1/2]], 500)\n",
    "graph(ax[1, 0], titles[2], [[1, 0], [0, 0]], [[1/2, 0], [0, 1/2]], 500)\n",
    "graph(ax[1, 1], titles[3], [[1/2, 0], [0, 1/2]], [[1/2, 1/2], [1/2, 1/2]], 500)\n",
    "\n",
    "ax[0, 1].legend(loc='upper right')\n",
    "\n",
    "fig.tight_layout()"
   ]
  },
  {
   "cell_type": "code",
   "execution_count": null,
   "id": "4283aecf-ec34-4e38-8677-524caaa60ac4",
   "metadata": {},
   "outputs": [],
   "source": [
    "# Looks like neutrinos in pure backgrounds become pure, while neutrinos in mixed backgrounds become mixed. However, the entropy of pure neutrinos in pure backgrounds increases at first, up to a maximum, and then decreases to zero again.\n",
    "# Bloch sphere?"
   ]
  },
  {
   "cell_type": "code",
   "execution_count": null,
   "id": "606e5590-748d-4497-9a98-b0218495db7d",
   "metadata": {},
   "outputs": [],
   "source": []
  }
 ],
 "metadata": {
  "kernelspec": {
   "display_name": "Python 3 (ipykernel)",
   "language": "python",
   "name": "python3"
  },
  "language_info": {
   "codemirror_mode": {
    "name": "ipython",
    "version": 3
   },
   "file_extension": ".py",
   "mimetype": "text/x-python",
   "name": "python",
   "nbconvert_exporter": "python",
   "pygments_lexer": "ipython3",
   "version": "3.10.6"
  }
 },
 "nbformat": 4,
 "nbformat_minor": 5
}
