{
 "cells": [
  {
   "cell_type": "markdown",
   "metadata": {
    "id": "OmcSshLSxeH9"
   },
   "source": [
    "Simulation \"import\""
   ]
  },
  {
   "cell_type": "code",
   "execution_count": null,
   "metadata": {
    "cellView": "form",
    "id": "PEcUuEhu4-8u"
   },
   "outputs": [],
   "source": [
    "# @title\n",
    "import numpy as np\n",
    "from numpy import cos\n",
    "from scipy.constants import pi\n",
    "\n",
    "\n",
    "def scatter_pair(psi, n, m, *args, **kwargs):\n",
    "    \"\"\"Scatter the particles `n` and `m` given the state `psi`, and return the new state.\"\"\"\n",
    "    N = psi.ndim\n",
    "    index = psi_index(N, n, m)\n",
    "\n",
    "    psi = psi.copy()\n",
    "    psi[index[0]], psi[index[1]], psi[index[2]], psi[index[3]] = scatter(psi[index[0]], psi[index[1]], psi[index[2]], psi[index[3]], *args, **kwargs)\n",
    "\n",
    "    return psi\n",
    "\n",
    "\n",
    "def psi_index(N, n, m):\n",
    "    \"\"\"Return indices for the 4 configurations of particles n and m.\"\"\"\n",
    "    index = np.full((4, N), slice(None))\n",
    "    index[:, n] = [0, 0, 1, 1]\n",
    "    index[:, m] = [0, 1, 0, 1]\n",
    "\n",
    "    index = [tuple(i) for i in index]\n",
    "\n",
    "    return index\n",
    "\n",
    "\n",
    "def scatter(ee, eu, ue, uu, theta=pi/2, omega0_t=1):\n",
    "    \"\"\"Scatter two neutrinos given their combined state components, and return the new components.\"\"\"\n",
    "    phase = np.exp(-2j * omega0_t * (1 - cos(theta)))\n",
    "    ee = ee * phase\n",
    "    uu = uu * phase\n",
    "\n",
    "    c = (eu + ue) / 2\n",
    "    d = (eu - ue) / 2\n",
    "    eu = c*phase + d\n",
    "    ue = c*phase - d\n",
    "\n",
    "    return ee, eu, ue, uu\n",
    "\n",
    "\n",
    "def flavor_eigenstate(flavors):\n",
    "    \"\"\"Make a flavor eigenstate with the given flavors for each neutrino.\"\"\"\n",
    "    N = len(flavors)\n",
    "\n",
    "    psi = np.zeros(N * [2], dtype=complex)\n",
    "    psi[tuple(flavors)] = 1\n",
    "\n",
    "    return psi\n",
    "\n",
    "\n",
    "def random_scatter(psi0, n, *args, **kwargs):\n",
    "    \"\"\"Scatter random pairs of particles `n` times and return the states along the way.\"\"\"\n",
    "    N = psi0.ndim\n",
    "    particle1 = np.random.randint(0, N, n)                      # Any random particle.\n",
    "    particle2 = (particle1 + np.random.randint(1, N, n)) % N    # A random particle that's different from particle 1.\n",
    "\n",
    "    psi = psi0\n",
    "    yield psi\n",
    "\n",
    "    for i, j in zip(particle1, particle2):\n",
    "        psi = scatter_pair(psi, i, j, *args, **kwargs)\n",
    "        yield psi\n",
    "\n",
    "\n",
    "def density_matrix(psi, n):\n",
    "    \"\"\"The density matrix for the particle `n` from the multiparticle state `psi`.\"\"\"\n",
    "    N = psi.ndim\n",
    "\n",
    "    psi_ = np.moveaxis(psi, n, 0)\n",
    "    c_ab = psi_[:, np.newaxis]\n",
    "    c_apb = psi_[np.newaxis, :]\n",
    "\n",
    "    rho = (c_ab * c_apb.conj()).sum(axis=tuple(range(2, N + 1)))\n",
    "\n",
    "    return rho\n",
    "\n",
    "\n",
    "def entropy_rho(rho):\n",
    "    \"\"\"The Von-Neumann entropy of a density matrix.\"\"\"\n",
    "    import scipy\n",
    "    return - np.trace(rho @ scipy.linalg.logm(rho))  # TODO\n",
    "\n",
    "\n",
    "def entropy(psi, n):\n",
    "    return entropy_rho(density_matrix(psi, n))\n",
    "\n",
    "\n",
    "def flavor_expval(psi, n):\n",
    "    \"\"\"The expectation value of the flavor of neutrino `n`. Electron flavor = 0, muon flavor = 1.\"\"\"\n",
    "    return np.sum(np.abs(psi.take(1, n)) ** 2)\n",
    "\n",
    "\n",
    "def average_entropy(psi):\n",
    "    return np.mean([entropy(psi, n) for n in range(psi.ndim)])\n",
    "\n",
    "\n",
    "def average_flavor(psi):\n",
    "    return np.mean([flavor_expval(psi, n) for n in range(psi.ndim)])\n"
   ]
  },
  {
   "cell_type": "markdown",
   "metadata": {
    "id": "GyX5ynnCxpia"
   },
   "source": [
    "Setup"
   ]
  },
  {
   "cell_type": "code",
   "execution_count": null,
   "metadata": {
    "id": "R0dOFTJR5NaH"
   },
   "outputs": [],
   "source": [
    "import matplotlib.pyplot as plt\n",
    "\n",
    "plt.style.use('bmh')\n",
    "\n",
    "def analyze(initial_flavors, n_scatters, verbose=False, *args, **kwargs):\n",
    "  initial_flavors = np.array(initial_flavors)\n",
    "\n",
    "  psi0 = flavor_eigenstate(initial_flavors)\n",
    "  N = len(initial_flavors)\n",
    "\n",
    "  entropies, flavors = [], []\n",
    "  for i, psi in enumerate(random_scatter(psi0, n_scatters, *args, **kwargs)):\n",
    "      if verbose:\n",
    "          print(f\"Scatter #{i}\")\n",
    "\n",
    "      entropies.append([entropy(psi, n) for n in range(N)])\n",
    "      flavors.append([flavor_expval(psi, n) for n in range(N)])\n",
    "\n",
    "  entropies, flavors = np.array(entropies).T, np.array(flavors).T\n",
    "\n",
    "  avg_flavor = flavors.mean(axis=0)\n",
    "  avg_entropy = entropies.mean(axis=0)\n",
    "\n",
    "  sorted_flavors = [flavors[initial_flavors == 0], flavors[initial_flavors == 1]]\n",
    "  sorted_avg_flavors = [flavors_.mean(axis=0) for flavors_ in sorted_flavors]\n",
    "\n",
    "  return avg_flavor, sorted_avg_flavors, avg_entropy, sorted_flavors, entropies\n",
    "\n",
    "def plot(avg_flavor, sorted_avg_flavors, avg_entropy, sorted_flavors, entropies, style=0):\n",
    "  fig, ax = plt.subplots(figsize=(5, 3), dpi=150)\n",
    "\n",
    "  alpha = 0.5\n",
    "  for i, flavor in enumerate(sorted_flavors[0]):\n",
    "    label = r\"single particle flavors\" if i == 0 else None\n",
    "    ax.plot(flavor, c='red', alpha=alpha, label=label)\n",
    "  for i, flavor in enumerate(sorted_flavors[1]):\n",
    "    # label = r\"$\\nu_\\mu$ flavors\" if i == 0 else None\n",
    "    ax.plot(flavor, c='red', alpha=alpha, label=None)\n",
    "  for n, entropy_ in enumerate(entropies):\n",
    "    label = \"single particle entropies\" if n == 0 else None\n",
    "    ax.plot(entropy_, c='blue', alpha=alpha, label=label)\n",
    "\n",
    "  if style == 1:\n",
    "    ax.plot(avg_entropy, c='black', lw=2, label=r\"average entropy\")\n",
    "\n",
    "  if style == 2:\n",
    "    ax.plot(avg_entropy, c='black', lw=2, label=r\"averages\")\n",
    "    ax.plot(sorted_avg_flavors[0], c='black', lw=2)\n",
    "    ax.plot(sorted_avg_flavors[1], c='black', lw=2)\n",
    "    ax.axhline(np.mean(avg_flavor), c='black', lw=2, zorder=-1)\n",
    "  else:\n",
    "    ax.axhline(np.mean(avg_flavor), c='black', lw=2, zorder=-1, label=\"average flavor\")\n",
    "\n",
    "  ax.axhline(np.log(2), c='black', ls=':', zorder=-1)\n",
    "\n",
    "  ax.set_xlabel(\"number of interactions\")\n",
    "  ax.legend(fontsize=9)\n",
    "  fig.tight_layout()"
   ]
  },
  {
   "cell_type": "markdown",
   "metadata": {
    "id": "UEm2VFqJXBhc"
   },
   "source": [
    "Plots"
   ]
  },
  {
   "cell_type": "code",
   "execution_count": null,
   "metadata": {
    "colab": {
     "base_uri": "https://localhost:8080/",
     "height": 541
    },
    "id": "NSrriFAbSrE7",
    "outputId": "6d69fe7f-475e-4688-e621-f4b7fe053ca2"
   },
   "outputs": [],
   "source": [
    "psi0 = [1, 0]\n",
    "omega0_t = 0.1\n",
    "n_scatters = round(2 * pi/omega0_t)\n",
    "data = analyze(psi0, n_scatters=n_scatters, omega0_t=omega0_t)\n",
    "\n",
    "plot(*data)"
   ]
  },
  {
   "cell_type": "code",
   "execution_count": null,
   "metadata": {
    "colab": {
     "base_uri": "https://localhost:8080/",
     "height": 452
    },
    "id": "M8FIs1ZuS_Z8",
    "outputId": "c01359cc-a8b2-473c-fc8b-b353c6110d75"
   },
   "outputs": [],
   "source": [
    "psi0 = [1, 0, 0]\n",
    "omega0_t = 0.1\n",
    "n_scatters = round(5 * pi/omega0_t)\n",
    "data = analyze(psi0, n_scatters=n_scatters, omega0_t=omega0_t)\n",
    "\n",
    "plot(*data, style=1)"
   ]
  },
  {
   "cell_type": "code",
   "execution_count": null,
   "metadata": {
    "id": "I5zwB_TZQ_Mx"
   },
   "outputs": [],
   "source": [
    "psi0 = [1, 1, 0, 0]\n",
    "omega0_t = 0.1\n",
    "n_scatters = round(5 * pi/omega0_t)\n",
    "data = analyze(psi0, n_scatters=n_scatters, omega0_t=omega0_t)"
   ]
  },
  {
   "cell_type": "code",
   "execution_count": null,
   "metadata": {
    "colab": {
     "base_uri": "https://localhost:8080/",
     "height": 452
    },
    "id": "tqsndd1LVD23",
    "outputId": "31101691-cdd7-4a7c-d8a3-71d021624fbf"
   },
   "outputs": [],
   "source": [
    "plot(*data, style=1)"
   ]
  },
  {
   "cell_type": "code",
   "execution_count": null,
   "metadata": {
    "id": "iZObTF1wmCsL"
   },
   "outputs": [],
   "source": [
    "psi0 = [1, 1, 1, 1, 0, 0, 0, 0]\n",
    "omega0_t = 0.1\n",
    "n_scatters = round(5 * pi/omega0_t)\n",
    "data = analyze(psi0, n_scatters=n_scatters, omega0_t=omega0_t)"
   ]
  },
  {
   "cell_type": "code",
   "execution_count": null,
   "metadata": {
    "colab": {
     "base_uri": "https://localhost:8080/",
     "height": 452
    },
    "id": "9mhudz_ln9Tp",
    "outputId": "1f5fc355-205a-4454-fea5-9840c0ee5f07"
   },
   "outputs": [],
   "source": [
    "plot(*data, style=2)"
   ]
  },
  {
   "cell_type": "code",
   "execution_count": null,
   "metadata": {
    "id": "Ofm2yLTlD2W2"
   },
   "outputs": [],
   "source": [
    "psi0 = [1, 1, 1, 1, 1, 1, 0, 0, 0, 0, 0, 0]\n",
    "omega0_t = 0.1\n",
    "n_scatters = round(20 * pi/omega0_t)\n",
    "data = analyze(psi0, n_scatters=n_scatters, omega0_t=omega0_t)"
   ]
  },
  {
   "cell_type": "code",
   "execution_count": null,
   "metadata": {
    "colab": {
     "base_uri": "https://localhost:8080/",
     "height": 452
    },
    "id": "lp2nHDoREKEe",
    "outputId": "1b112141-17ba-4878-aac4-bba7c0bf9c38"
   },
   "outputs": [],
   "source": [
    "plot(*data, style=2)"
   ]
  },
  {
   "cell_type": "code",
   "execution_count": null,
   "metadata": {
    "id": "P2r41K9ClyqQ"
   },
   "outputs": [],
   "source": [
    "psi0 = 10 * [0] + 10 * [1]\n",
    "omega0_t = 0.1\n",
    "n_scatters = round(20 * pi/omega0_t)\n",
    "data = analyze(psi0, n_scatters=n_scatters, omega0_t=omega0_t)"
   ]
  },
  {
   "cell_type": "code",
   "execution_count": null,
   "metadata": {
    "colab": {
     "base_uri": "https://localhost:8080/",
     "height": 452
    },
    "id": "F7t_z4iXXjoj",
    "outputId": "3275c773-2a0a-43ec-8805-971a74cee1de"
   },
   "outputs": [],
   "source": [
    "plot(*data, style=2)"
   ]
  },
  {
   "cell_type": "code",
   "execution_count": null,
   "metadata": {
    "id": "40IRu5PQmIok"
   },
   "outputs": [],
   "source": []
  }
 ],
 "metadata": {
  "colab": {
   "provenance": []
  },
  "kernelspec": {
   "display_name": "Python 3 (ipykernel)",
   "language": "python",
   "name": "python3"
  },
  "language_info": {
   "codemirror_mode": {
    "name": "ipython",
    "version": 3
   },
   "file_extension": ".py",
   "mimetype": "text/x-python",
   "name": "python",
   "nbconvert_exporter": "python",
   "pygments_lexer": "ipython3",
   "version": "3.10.6"
  }
 },
 "nbformat": 4,
 "nbformat_minor": 4
}
